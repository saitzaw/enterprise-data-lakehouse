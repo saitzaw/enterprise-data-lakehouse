{
 "cells": [
  {
   "cell_type": "code",
   "execution_count": 1,
   "id": "247b35dc-884c-4636-8ed6-ba322e808f97",
   "metadata": {},
   "outputs": [],
   "source": [
    "import sys\n",
    "import pyspark\n",
    "from pyspark.sql import SparkSession"
   ]
  },
  {
   "cell_type": "code",
   "execution_count": 2,
   "id": "62ea1ab0-fbc1-4f5a-bf2e-b88230800227",
   "metadata": {},
   "outputs": [],
   "source": [
    "sys.path.append(\"/opt/workspace\")\n",
    "from load_env import env_parameter\n",
    "\n",
    "# Load from .env\n",
    "env_vars = env_parameter()\n",
    "spark_master = env_vars[\"spark_master\"]\n",
    "event_log_dir = env_vars[\"event_log_dir\"]"
   ]
  },
  {
   "cell_type": "code",
   "execution_count": 3,
   "id": "cca3c49a-2bb6-495b-9e8f-f6a149433235",
   "metadata": {},
   "outputs": [
    {
     "name": "stdout",
     "output_type": "stream",
     "text": [
      ":: loading settings :: url = jar:file:/opt/spark/jars/ivy-2.5.1.jar!/org/apache/ivy/core/settings/ivysettings.xml\n"
     ]
    },
    {
     "name": "stderr",
     "output_type": "stream",
     "text": [
      "Ivy Default Cache set to: /root/.ivy2/cache\n",
      "The jars for the packages stored in: /root/.ivy2/jars\n",
      "org.apache.hadoop#hadoop-aws added as a dependency\n",
      ":: resolving dependencies :: org.apache.spark#spark-submit-parent-3af77f4e-0246-43f0-99a1-338386b1139a;1.0\n",
      "\tconfs: [default]\n",
      "\tfound org.apache.hadoop#hadoop-aws;3.3.2 in central\n",
      "\tfound com.amazonaws#aws-java-sdk-bundle;1.11.1026 in central\n",
      "\tfound org.wildfly.openssl#wildfly-openssl;1.0.7.Final in central\n",
      "downloading https://repo1.maven.org/maven2/org/apache/hadoop/hadoop-aws/3.3.2/hadoop-aws-3.3.2.jar ...\n",
      "\t[SUCCESSFUL ] org.apache.hadoop#hadoop-aws;3.3.2!hadoop-aws.jar (865ms)\n",
      "downloading https://repo1.maven.org/maven2/com/amazonaws/aws-java-sdk-bundle/1.11.1026/aws-java-sdk-bundle-1.11.1026.jar ...\n",
      "\t[SUCCESSFUL ] com.amazonaws#aws-java-sdk-bundle;1.11.1026!aws-java-sdk-bundle.jar (17387ms)\n",
      "downloading https://repo1.maven.org/maven2/org/wildfly/openssl/wildfly-openssl/1.0.7.Final/wildfly-openssl-1.0.7.Final.jar ...\n",
      "\t[SUCCESSFUL ] org.wildfly.openssl#wildfly-openssl;1.0.7.Final!wildfly-openssl.jar (377ms)\n",
      ":: resolution report :: resolve 8021ms :: artifacts dl 18632ms\n",
      "\t:: modules in use:\n",
      "\tcom.amazonaws#aws-java-sdk-bundle;1.11.1026 from central in [default]\n",
      "\torg.apache.hadoop#hadoop-aws;3.3.2 from central in [default]\n",
      "\torg.wildfly.openssl#wildfly-openssl;1.0.7.Final from central in [default]\n",
      "\t---------------------------------------------------------------------\n",
      "\t|                  |            modules            ||   artifacts   |\n",
      "\t|       conf       | number| search|dwnlded|evicted|| number|dwnlded|\n",
      "\t---------------------------------------------------------------------\n",
      "\t|      default     |   3   |   3   |   3   |   0   ||   3   |   3   |\n",
      "\t---------------------------------------------------------------------\n",
      ":: retrieving :: org.apache.spark#spark-submit-parent-3af77f4e-0246-43f0-99a1-338386b1139a\n",
      "\tconfs: [default]\n",
      "\t3 artifacts copied, 0 already retrieved (222428kB/261ms)\n",
      "25/07/16 16:53:08 WARN NativeCodeLoader: Unable to load native-hadoop library for your platform... using builtin-java classes where applicable\n",
      "Setting default log level to \"WARN\".\n",
      "To adjust logging level use sc.setLogLevel(newLevel). For SparkR, use setLogLevel(newLevel).\n"
     ]
    }
   ],
   "source": [
    "# Start Spark session with PostgreSQL JDBC driver\n",
    "spark = SparkSession.builder \\\n",
    "    .appName(\"SAP_BRONZE\") \\\n",
    "    .master(spark_master) \\\n",
    "    .config(\"spark.jars.packages\", \",\".join([\n",
    "        \"org.apache.hadoop:hadoop-aws:3.3.2\"\n",
    "    ])) \\\n",
    "    .config(\"spark.hadoop.fs.s3a.endpoint\", \"http://minio:9000\") \\\n",
    "    .config(\"spark.hadoop.fs.s3a.access.key\", \"admin\") \\\n",
    "    .config(\"spark.hadoop.fs.s3a.secret.key\", \"password123\") \\\n",
    "    .config(\"spark.hadoop.fs.s3a.path.style.access\", \"true\") \\\n",
    "    .config(\"spark.hadoop.fs.s3a.impl\", \"org.apache.hadoop.fs.s3a.S3AFileSystem\") \\\n",
    "    .config(\"spark.hadoop.fs.s3a.connection.ssl.enabled\", \"false\") \\\n",
    "    .config(\"spark.eventLog.enabled\", \"true\") \\\n",
    "    .config(\"spark.eventLog.dir\", event_log_dir) \\\n",
    "    .getOrCreate()"
   ]
  },
  {
   "cell_type": "code",
   "execution_count": 4,
   "id": "3933cdf5-c0a4-4487-a80f-aa3d9769d2d4",
   "metadata": {},
   "outputs": [
    {
     "name": "stderr",
     "output_type": "stream",
     "text": [
      "25/07/16 16:53:12 WARN MetricsConfig: Cannot locate configuration: tried hadoop-metrics2-s3a-file-system.properties,hadoop-metrics2.properties\n",
      "                                                                                "
     ]
    }
   ],
   "source": [
    "df_landing = spark.read \\\n",
    "    .option(\"header\", \"true\") \\\n",
    "    .option(\"inferSchema\", \"true\") \\\n",
    "    .csv(\"s3a://landing/adrc.csv\")"
   ]
  },
  {
   "cell_type": "code",
   "execution_count": 7,
   "id": "d626393e-f36a-43f7-ac72-de3876185878",
   "metadata": {},
   "outputs": [
    {
     "name": "stdout",
     "output_type": "stream",
     "text": [
      "-RECORD 0-------------------------------\n",
      " client           | 200                 \n",
      " addrnumber       | 15211               \n",
      " date_from        | 2001-01-01          \n",
      " nation           | NULL                \n",
      " date_to          | 9999-12-31          \n",
      " title            | NULL                \n",
      " name1            | Ada Burchette       \n",
      " name2            | NULL                \n",
      " name3            | NULL                \n",
      " name4            | NULL                \n",
      " name_text        | NULL                \n",
      " name_co          | NULL                \n",
      " city1            | New York            \n",
      " city2            | NULL                \n",
      " city_code        | NULL                \n",
      " cityp_code       | NULL                \n",
      " home_city        | NULL                \n",
      " cityh_code       | NULL                \n",
      " chckstatus       | NULL                \n",
      " regiogroup       | NULL                \n",
      " post_code1       | 10001               \n",
      " post_code2       | NULL                \n",
      " post_code3       | NULL                \n",
      " pcode1_ext       | NULL                \n",
      " pcode2_ext       | NULL                \n",
      " pcode3_ext       | NULL                \n",
      " po_box           | NULL                \n",
      " dont_use_p       | NULL                \n",
      " po_box_num       | NULL                \n",
      " po_box_loc       | NULL                \n",
      " city_code2       | NULL                \n",
      " po_box_reg       | NULL                \n",
      " po_box_cty       | NULL                \n",
      " postalarea       | NULL                \n",
      " transpzone       | NULL                \n",
      " street           | 207 Sandy Road      \n",
      " dont_use_s       | NULL                \n",
      " streetcode       | NULL                \n",
      " streetabbr       | NULL                \n",
      " house_num1       | NULL                \n",
      " house_num2       | NULL                \n",
      " house_num3       | NULL                \n",
      " str_suppl1       | NULL                \n",
      " str_suppl2       | NULL                \n",
      " str_suppl3       | NULL                \n",
      " location         | NULL                \n",
      " building         | NULL                \n",
      " floor            | NULL                \n",
      " roomnumber       | NULL                \n",
      " country          | NULL                \n",
      " langu            | NULL                \n",
      " region           | NULL                \n",
      " addr_group       | BP                  \n",
      " flaggroups       | NULL                \n",
      " pers_addr        | NULL                \n",
      " sort1            | 11LO615-15          \n",
      " sort2            | NULL                \n",
      " sort_phn         | NULL                \n",
      " deflt_comm       | NULL                \n",
      " tel_number       | NULL                \n",
      " tel_extens       | NULL                \n",
      " fax_number       | NULL                \n",
      " fax_extens       | NULL                \n",
      " flagcomm2        | NULL                \n",
      " flagcomm3        | NULL                \n",
      " flagcomm4        | NULL                \n",
      " flagcomm5        | NULL                \n",
      " flagcomm6        | NULL                \n",
      " flagcomm7        | NULL                \n",
      " flagcomm8        | NULL                \n",
      " flagcomm9        | NULL                \n",
      " flagcomm10       | NULL                \n",
      " flagcomm11       | NULL                \n",
      " flagcomm12       | NULL                \n",
      " flagcomm13       | NULL                \n",
      " addrorigin       | NULL                \n",
      " mc_name1         | TECHNOLAND          \n",
      " mc_city1         | STUTTGART           \n",
      " mc_street        | DAIMLER-BENZ STR.   \n",
      " extension1       | NULL                \n",
      " extension2       | NULL                \n",
      " time_zone        | CET                 \n",
      " taxjurcode       | NULL                \n",
      " address_id       | NULL                \n",
      " langu_crea       | D                   \n",
      " adrc_uuid        | NULL                \n",
      " uuid_belated     | NULL                \n",
      " id_category      | NULL                \n",
      " adrc_err_status  | NULL                \n",
      " po_box_lobby     | NULL                \n",
      " deli_serv_type   | NULL                \n",
      " deli_serv_number | NULL                \n",
      " county_code      | NULL                \n",
      " county           | NULL                \n",
      " township_code    | NULL                \n",
      " township         | NULL                \n",
      " mc_county        | NULL                \n",
      " mc_township      | NULL                \n",
      " xpcpt            | NULL                \n",
      " operation_flag   | I                   \n",
      " is_deleted       | false               \n",
      " recordstamp      | 2021-03-31 02:35:14 \n",
      "only showing top 1 row\n",
      "\n"
     ]
    }
   ],
   "source": [
    "df_landing.show(1,truncate=True,vertical=True)"
   ]
  },
  {
   "cell_type": "code",
   "execution_count": 9,
   "id": "e26928d8-b982-4c16-989c-48afafc3bbdb",
   "metadata": {},
   "outputs": [],
   "source": [
    "spark.conf.set(\"spark.sql.parquet.datetimeRebaseModeInWrite\", \"LEGACY\")"
   ]
  },
  {
   "cell_type": "code",
   "execution_count": 10,
   "id": "5ae7051d-caa2-4ceb-b2c1-2f71f83a30c9",
   "metadata": {},
   "outputs": [
    {
     "name": "stderr",
     "output_type": "stream",
     "text": [
      "                                                                                "
     ]
    }
   ],
   "source": [
    "df_landing.write \\\n",
    "    .mode(\"overwrite\") \\\n",
    "    .parquet(\"s3a://bronze/sap/adrc/\")"
   ]
  },
  {
   "cell_type": "code",
   "execution_count": null,
   "id": "942f32bf-8219-4728-bf8c-ac7fb34042cb",
   "metadata": {},
   "outputs": [],
   "source": []
  }
 ],
 "metadata": {
  "kernelspec": {
   "display_name": "Python 3 (ipykernel)",
   "language": "python",
   "name": "python3"
  },
  "language_info": {
   "codemirror_mode": {
    "name": "ipython",
    "version": 3
   },
   "file_extension": ".py",
   "mimetype": "text/x-python",
   "name": "python",
   "nbconvert_exporter": "python",
   "pygments_lexer": "ipython3",
   "version": "3.12.9"
  }
 },
 "nbformat": 4,
 "nbformat_minor": 5
}
